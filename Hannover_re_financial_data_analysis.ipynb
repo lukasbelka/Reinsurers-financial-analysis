{
  "nbformat": 4,
  "nbformat_minor": 0,
  "metadata": {
    "colab": {
      "name": "Hannover-re-financial-data-analysis.ipynb",
      "provenance": [],
      "collapsed_sections": [],
      "toc_visible": true,
      "authorship_tag": "ABX9TyNand4ZnhGjORuNwajyCNa8"
    },
    "kernelspec": {
      "name": "python3",
      "display_name": "Python 3"
    },
    "language_info": {
      "name": "python"
    }
  },
  "cells": [
    {
      "cell_type": "markdown",
      "source": [
        "#Hannover Re Financial Data Analysis\n",
        "\n",
        "With this notebook I ingest and transform publicly available data from the reinsurance company Hannover Re. The main aim is to get a clean data set in order to upload it to MS Power BI, where the data model can be created and the data visualised accordingly.\n",
        "\n",
        "Maybe this will serve as part of a peer analysis that I will conduct for the TOP 5 reinsurance companies - we will see."
      ],
      "metadata": {
        "id": "FLXjLz6Rwj6e"
      }
    },
    {
      "cell_type": "markdown",
      "source": [
        "## Data Ingestion and initial exploration\n",
        "\n",
        "The first step is to import the relevant python packages and load the data from Google Drive where I store it. Subsequently the data frame will be created."
      ],
      "metadata": {
        "id": "BQa16Pe_7squ"
      }
    },
    {
      "cell_type": "code",
      "source": [
        "import numpy as np\n",
        "import pandas as pd\n",
        "!pip install xlrd\n",
        "\n",
        "from google.colab import drive\n",
        "drive.mount('/content/drive')\n",
        "\n",
        "data = pd.read_excel('/content/drive/MyDrive/FinancialData/HNR_AR2020_XLS_en.xlsx', sheet_name='Key figures', header=3)"
      ],
      "metadata": {
        "colab": {
          "base_uri": "https://localhost:8080/"
        },
        "id": "ns2IRaf49l53",
        "outputId": "dbdd4d58-4169-4cb1-c059-ebdbcf81f5a0"
      },
      "execution_count": 6,
      "outputs": [
        {
          "output_type": "stream",
          "name": "stdout",
          "text": [
            "Requirement already satisfied: xlrd in /usr/local/lib/python3.7/dist-packages (1.1.0)\n",
            "Drive already mounted at /content/drive; to attempt to forcibly remount, call drive.mount(\"/content/drive\", force_remount=True).\n"
          ]
        }
      ]
    },
    {
      "cell_type": "code",
      "source": [
        "print(data.info())\n",
        "print(data)"
      ],
      "metadata": {
        "colab": {
          "base_uri": "https://localhost:8080/"
        },
        "id": "dVqo8eaV32wz",
        "outputId": "c43df59f-0992-4db3-d1f1-bd368dc78570"
      },
      "execution_count": 7,
      "outputs": [
        {
          "output_type": "stream",
          "name": "stdout",
          "text": [
            "<class 'pandas.core.frame.DataFrame'>\n",
            "RangeIndex: 38 entries, 0 to 37\n",
            "Data columns (total 7 columns):\n",
            " #   Column             Non-Null Count  Dtype  \n",
            "---  ------             --------------  -----  \n",
            " 0   in EUR million     34 non-null     object \n",
            " 1   2020               24 non-null     object \n",
            " 2   +/- previous year  17 non-null     float64\n",
            " 3   2019               24 non-null     object \n",
            " 4   2018               24 non-null     object \n",
            " 5   2017               24 non-null     object \n",
            " 6   20161              24 non-null     object \n",
            "dtypes: float64(1), object(6)\n",
            "memory usage: 2.2+ KB\n",
            "None\n",
            "                                       in EUR million          2020  \\\n",
            "0                                             Results           NaN   \n",
            "1                               Gross written premium  24765.461863   \n",
            "2                                  Net premium earned   21355.91519   \n",
            "3                            Net underwriting result2   -693.652574   \n",
            "4                               Net investment income   1688.122902   \n",
            "5                             Operating profit (EBIT)   1214.074825   \n",
            "6                                    Group net income    883.073173   \n",
            "7                                                 NaN           NaN   \n",
            "8                                       Balance sheet           NaN   \n",
            "9                              Policyholders' surplus  14071.035021   \n",
            "10  Equity attributable to shareholders of\\nHannov...  10995.046331   \n",
            "11                          Non-controlling interests    844.370096   \n",
            "12                                     Hybrid capital   2231.618594   \n",
            "13  Investments (excl. funds withheld by ceding co...  49220.931954   \n",
            "14                                       Total assets  71439.769373   \n",
            "15                                                NaN           NaN   \n",
            "16                                              Share           NaN   \n",
            "17      Earnings per share (basic and diluted) in EUR      7.322505   \n",
            "18                        Book value per share in EUR         91.17   \n",
            "19                                           Dividend    542.687103   \n",
            "20                          Dividend per share in EUR      4.503, 4   \n",
            "21                     Share price at year-end in EUR         130.3   \n",
            "22                  Market capitalisation at year-end   15713.80656   \n",
            "23                                                NaN           NaN   \n",
            "24                                             Ratios           NaN   \n",
            "25  Combined ratio (property and casualty reinsura...      1.015734   \n",
            "26  Large losses as percentage of net premium earn...      0.112272   \n",
            "27                                          Retention      0.901366   \n",
            "28  Return on investment\\n(excl. funds withheld by...      0.030404   \n",
            "29                                       EBIT margin6       0.05685   \n",
            "30                       Return on equity (after tax)      0.081992   \n",
            "31                                                NaN           NaN   \n",
            "32                       1 Restated pursuant to IAS 8           NaN   \n",
            "33  2 Including expenses on funds withheld and con...           NaN   \n",
            "34                                3 Proposed dividend           NaN   \n",
            "35  4 Dividend of EUR 4.50 for 2020, Dividend of E...           NaN   \n",
            "36  5 Hannover Re Group's net share for natural ca...           NaN   \n",
            "37       6 Operating result (EBIT)/net premium earned           NaN   \n",
            "\n",
            "    +/- previous year          2019          2018          2017         20161  \n",
            "0                 NaN           NaN           NaN           NaN           NaN  \n",
            "1            0.095933       22597.6       19176.4       17790.5       16353.6  \n",
            "2            0.082425       19729.7       17289.1       15631.7       14410.3  \n",
            "3                 NaN          -9.7         156.9        -253.6         448.1  \n",
            "4           -0.039256        1757.1          1530        1773.9        1550.4  \n",
            "5           -0.344877        1853.2        1596.6        1364.4        1689.3  \n",
            "6           -0.312355        1284.2        1059.5         958.6        1171.2  \n",
            "7                 NaN           NaN           NaN           NaN           NaN  \n",
            "8                 NaN           NaN           NaN           NaN           NaN  \n",
            "9            0.035480       13588.9       11035.1       10778.5       11231.4  \n",
            "10           0.044362         10528        8776.8        8528.5        8997.2  \n",
            "11           0.021621         826.5         765.2         758.1         743.3  \n",
            "12          -0.001245        2234.4        1493.1          1492        1490.8  \n",
            "13           0.033415       47629.4       42197.3       40057.5       41793.5  \n",
            "14           0.001168       71356.4       64508.6       61196.8       63594.5  \n",
            "15                NaN           NaN           NaN           NaN           NaN  \n",
            "16                NaN           NaN           NaN           NaN           NaN  \n",
            "17          -0.312355         10.65          8.79          7.95          9.71  \n",
            "18           0.044362          87.3         72.78         70.72         74.61  \n",
            "19          -0.181838         663.3         633.1           603           603  \n",
            "20          -0.181838  4.00 + 1.504  3.75 + 1.504  3.50 + 1.504  3.50 + 1.504  \n",
            "21          -0.243761         172.3         117.7         104.9         102.8  \n",
            "22          -0.243761       20778.9       14194.3       12650.6       12397.4  \n",
            "23                NaN           NaN           NaN           NaN           NaN  \n",
            "24                NaN           NaN           NaN           NaN           NaN  \n",
            "25                NaN         0.982         0.965         0.998         0.937  \n",
            "26                NaN         0.075         0.079         0.123         0.078  \n",
            "27                NaN           0.9         0.907         0.905         0.893  \n",
            "28                NaN         0.035         0.032         0.038          0.03  \n",
            "29                NaN         0.094         0.092         0.087         0.117  \n",
            "30                NaN         0.133         0.122         0.109         0.137  \n",
            "31                NaN           NaN           NaN           NaN           NaN  \n",
            "32                NaN           NaN           NaN           NaN           NaN  \n",
            "33                NaN           NaN           NaN           NaN           NaN  \n",
            "34                NaN           NaN           NaN           NaN           NaN  \n",
            "35                NaN           NaN           NaN           NaN           NaN  \n",
            "36                NaN           NaN           NaN           NaN           NaN  \n",
            "37                NaN           NaN           NaN           NaN           NaN  \n"
          ]
        }
      ]
    }
  ]
}