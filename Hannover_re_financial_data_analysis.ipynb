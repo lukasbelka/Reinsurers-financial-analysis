{
  "nbformat": 4,
  "nbformat_minor": 0,
  "metadata": {
    "colab": {
      "name": "Hannover-re-financial-data-analysis.ipynb",
      "provenance": [],
      "collapsed_sections": [],
      "toc_visible": true,
      "authorship_tag": "ABX9TyOLz2V86WT2b9Eaw6Gb04N2"
    },
    "kernelspec": {
      "name": "python3",
      "display_name": "Python 3"
    },
    "language_info": {
      "name": "python"
    }
  },
  "cells": [
    {
      "cell_type": "markdown",
      "source": [
        "#Hannover Re Financial Data Analysis\n",
        "\n",
        "With this notebook I ingest and transform publicly available data from the reinsurance company Hannover Re. The main aim is to get a clean data set in order to upload it to MS Power BI, where the data model can be created and the data visualised accordingly.\n",
        "\n",
        "Maybe this will serve as part of a peer analysis that I will conduct for the TOP 5 reinsurance companies - we will see."
      ],
      "metadata": {
        "id": "FLXjLz6Rwj6e"
      }
    },
    {
      "cell_type": "markdown",
      "source": [
        "## Data Ingestion and initial exploration\n",
        "\n",
        "The first step is to import the relevant python packages and load the data from Google Drive where I store it. Subsequently the data frame will be created."
      ],
      "metadata": {
        "id": "BQa16Pe_7squ"
      }
    },
    {
      "cell_type": "code",
      "source": [
        "import numpy as np\n",
        "import pandas as pd\n",
        "!pip install xlrd\n",
        "\n",
        "from google.colab import drive\n",
        "drive.mount('/content/drive')\n",
        "\n",
        "key_figures_2020_2016 = None\n",
        "income_2020_2019 = None\n",
        "\n",
        "key_figures_2020_2016 = pd.read_excel('/content/drive/MyDrive/FinancialData/HNR_AR2020_XLS_en.xlsx', sheet_name='Key figures', header=3)"
      ],
      "metadata": {
        "colab": {
          "base_uri": "https://localhost:8080/"
        },
        "id": "ns2IRaf49l53",
        "outputId": "f3bfa6bd-082c-45bd-a178-c93cb4503412"
      },
      "execution_count": null,
      "outputs": [
        {
          "output_type": "stream",
          "name": "stdout",
          "text": [
            "Requirement already satisfied: xlrd in /usr/local/lib/python3.7/dist-packages (1.1.0)\n",
            "Drive already mounted at /content/drive; to attempt to forcibly remount, call drive.mount(\"/content/drive\", force_remount=True).\n"
          ]
        }
      ]
    },
    {
      "cell_type": "markdown",
      "source": [
        "Lets have a first look at key_figures_2020_2016"
      ],
      "metadata": {
        "id": "y1FJdO9a3tgj"
      }
    },
    {
      "cell_type": "code",
      "source": [
        "print(key_figures_2020_2016.info())\n",
        "print(key_figures_2020_2016.head())"
      ],
      "metadata": {
        "colab": {
          "base_uri": "https://localhost:8080/"
        },
        "id": "dVqo8eaV32wz",
        "outputId": "f2aab62c-a9ee-41d0-b7de-ce7af6fcb147"
      },
      "execution_count": null,
      "outputs": [
        {
          "output_type": "stream",
          "name": "stdout",
          "text": [
            "<class 'pandas.core.frame.DataFrame'>\n",
            "RangeIndex: 38 entries, 0 to 37\n",
            "Data columns (total 7 columns):\n",
            " #   Column             Non-Null Count  Dtype  \n",
            "---  ------             --------------  -----  \n",
            " 0   in EUR million     34 non-null     object \n",
            " 1   2020               24 non-null     object \n",
            " 2   +/- previous year  17 non-null     float64\n",
            " 3   2019               24 non-null     object \n",
            " 4   2018               24 non-null     object \n",
            " 5   2017               24 non-null     object \n",
            " 6   20161              24 non-null     object \n",
            "dtypes: float64(1), object(6)\n",
            "memory usage: 2.2+ KB\n",
            "None\n",
            "             in EUR million          2020  ...     2017    20161\n",
            "0                   Results           NaN  ...      NaN      NaN\n",
            "1     Gross written premium  24765.461863  ...  17790.5  16353.6\n",
            "2        Net premium earned   21355.91519  ...  15631.7  14410.3\n",
            "3  Net underwriting result2   -693.652574  ...   -253.6    448.1\n",
            "4     Net investment income   1688.122902  ...   1773.9   1550.4\n",
            "\n",
            "[5 rows x 7 columns]\n"
          ]
        }
      ]
    },
    {
      "cell_type": "markdown",
      "source": [
        "Lets look at the data in a way a user is more used to: a table."
      ],
      "metadata": {
        "id": "B6OPwc8FFqrN"
      }
    },
    {
      "cell_type": "code",
      "source": [
        "from google.colab import data_table\n",
        "data_table.enable_dataframe_formatter()"
      ],
      "metadata": {
        "id": "lZBTUjfTFxyr"
      },
      "execution_count": null,
      "outputs": []
    }
  ]
}