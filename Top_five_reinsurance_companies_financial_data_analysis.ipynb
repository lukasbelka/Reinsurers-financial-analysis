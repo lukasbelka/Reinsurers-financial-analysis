{
  "nbformat": 4,
  "nbformat_minor": 0,
  "metadata": {
    "colab": {
      "name": "Top-five-reinsurance-companies-financial-data-analysis.ipynb",
      "provenance": [],
      "collapsed_sections": [],
      "authorship_tag": "ABX9TyNlTgMoki2nslMQkKofMEI7"
    },
    "kernelspec": {
      "name": "python3",
      "display_name": "Python 3"
    },
    "language_info": {
      "name": "python"
    }
  },
  "cells": [
    {
      "cell_type": "markdown",
      "source": [
        "#Top five reinsurance companies financial data analysis\n",
        "\n",
        "This colab notebook serves as a machine for ingesting and transforming publicly available financial data from the top five reinsurance companies. The main aim is to clean each data set, bring all together and finally visualise the numbers to conduct a peer analysis. At the same time the data must be stored in a format which enables an easy and automated update for future financial data releases.\n",
        "\n",
        "Although the files are available on each companies investor relations website, I downloaded it and stored it in a [github repository](https://github.com/lukasbelka/Reinsurers-financial-data-analysis) together with this notebook. The repository also contains [the links](https://github.com/lukasbelka/Reinsurers-financial-data-analysis/blob/main/raw_financial_data/readme.md) to the companies websites."
      ],
      "metadata": {
        "id": "FLXjLz6Rwj6e"
      }
    },
    {
      "cell_type": "markdown",
      "source": [
        "## Data Ingestion, exploration and cleaning\n",
        "\n",
        "The first step is to import the relevant packages and load the financial data from the repository."
      ],
      "metadata": {
        "id": "BQa16Pe_7squ"
      }
    },
    {
      "cell_type": "code",
      "source": [
        "import numpy as np\n",
        "import pandas as pd\n",
        "import matplotlib.pyplot as plt\n",
        "import seaborn as sns"
      ],
      "metadata": {
        "id": "3paC5trQh8-F"
      },
      "execution_count": 38,
      "outputs": []
    },
    {
      "cell_type": "code",
      "source": [
        "url = ('https://github.com/lukasbelka/Reinsurers-financial-data-analysis/blob/main/raw_financial_data/HNR/HNR_AR2021_XLS_en.xlsx?raw=true')\n",
        "xls_21 = pd.read_excel(url, sheet_name=None)\n",
        "\n",
        "# Let's see which sheets the excel file contains\n",
        "print(xls_21.keys())    "
      ],
      "metadata": {
        "colab": {
          "base_uri": "https://localhost:8080/"
        },
        "id": "ns2IRaf49l53",
        "outputId": "db6108cb-66f0-490b-8560-78111596c826"
      },
      "execution_count": 47,
      "outputs": [
        {
          "output_type": "stream",
          "name": "stdout",
          "text": [
            "dict_keys(['Table of content', 'Key figures', 'Remuneration Executive Board', 'Remuneration Supervisory Board', 'Consolidated balance sheet', 'Consolid. statement of income', 'Consolid. comprehensive income', \"Consolid. shareholders' equity\", 'Consolid. cash flow statement', 'Segment report - balance sheet', 'Segment report - income statem.', 'Investments by currencies', 'Gross written premium', 'Investment income', 'Net loss reserve P&C', 'Gains&losses on investments'])\n"
          ]
        }
      ]
    },
    {
      "cell_type": "markdown",
      "source": [
        "As a first step I will load the income statements sheet and have a quick look at the raw data."
      ],
      "metadata": {
        "id": "qsHvgeQocmRw"
      }
    },
    {
      "cell_type": "code",
      "source": [
        "\n",
        "# The data frame from the income statements sheet will be called finally 'is_hr' after the cleanup.\n",
        "\n",
        "is_hr_2021_raw = pd.read_excel(url, sheet_name='Consolid. statement of income', skiprows=2, header=1)\n",
        "print(is_hr_2021_raw.info())\n",
        "print(is_hr_2021_raw.head())\n",
        "print(is_hr_2021_raw)"
      ],
      "metadata": {
        "colab": {
          "base_uri": "https://localhost:8080/"
        },
        "id": "dVqo8eaV32wz",
        "outputId": "a82ea810-302a-426c-e91c-7b486e5d1286"
      },
      "execution_count": 48,
      "outputs": [
        {
          "output_type": "stream",
          "name": "stdout",
          "text": [
            "<class 'pandas.core.frame.DataFrame'>\n",
            "RangeIndex: 39 entries, 0 to 38\n",
            "Data columns (total 4 columns):\n",
            " #   Column               Non-Null Count  Dtype  \n",
            "---  ------               --------------  -----  \n",
            " 0   In EUR thousand      37 non-null     object \n",
            " 1   Notes                20 non-null     float64\n",
            " 2   1.1. - 31.12.2021    34 non-null     float64\n",
            " 3   1.1. - 31.12.2020¹   34 non-null     float64\n",
            "dtypes: float64(3), object(1)\n",
            "memory usage: 1.3+ KB\n",
            "None\n",
            "                    In EUR thousand  Notes  1.1. - 31.12.2021  \\\n",
            "0             Gross written premium    7.1         27762314.0   \n",
            "1             Ceded written premium    NaN          2905054.0   \n",
            "2  Change in gross unearned premium    NaN          -737631.0   \n",
            "3  Change in ceded unearned premium    NaN            24023.0   \n",
            "4                Net premium earned    NaN         24143652.0   \n",
            "\n",
            "   1.1. - 31.12.2020¹   \n",
            "0           24770342.0  \n",
            "1            2442720.0  \n",
            "2           -1028172.0  \n",
            "3              61345.0  \n",
            "4           21360795.0  \n",
            "                                      In EUR thousand  Notes  \\\n",
            "0                               Gross written premium   7.10   \n",
            "1                               Ceded written premium    NaN   \n",
            "2                    Change in gross unearned premium    NaN   \n",
            "3                    Change in ceded unearned premium    NaN   \n",
            "4                                  Net premium earned    NaN   \n",
            "5                          Ordinary investment income   7.20   \n",
            "6   Profit/loss from investments in associated com...   7.20   \n",
            "7            Realised gains and losses on investments   7.20   \n",
            "8       Change in fair value of financial instruments   7.20   \n",
            "9   Total depreciation, impairments and appreciati...   7.20   \n",
            "10                          Other investment expenses   7.20   \n",
            "11   Net income from investments under own management    NaN   \n",
            "12  Income/expense on funds withheld and contract ...   7.20   \n",
            "13                              Net investment income    NaN   \n",
            "14                             Other technical income   7.30   \n",
            "15                                     Total revenues    NaN   \n",
            "16                         Claims and claims expenses   7.30   \n",
            "17                         Change in benefit reserves   7.30   \n",
            "18  Commission and brokerage, change in deferred a...   7.30   \n",
            "19                            Other acquisition costs    NaN   \n",
            "20                            Administrative expenses   7.30   \n",
            "21                           Total technical expenses    NaN   \n",
            "22                                       Other income   7.40   \n",
            "23                                     Other expenses   7.40   \n",
            "24                              Other income/expenses   7.40   \n",
            "25                       Operating profit/loss (EBIT)    NaN   \n",
            "26                                    Financing costs   6.12   \n",
            "27                            Net income before taxes    NaN   \n",
            "28                                              Taxes   7.50   \n",
            "29                                         Net income    NaN   \n",
            "30                                            thereof    NaN   \n",
            "31        Non-controlling interest in profit and loss   6.14   \n",
            "32                                   Group net income    NaN   \n",
            "33                        Earnings per share (in EUR)   8.50   \n",
            "34                           Basic earnings per share    NaN   \n",
            "35                         Diluted earnings per share    NaN   \n",
            "36                                                NaN    NaN   \n",
            "37                                                NaN    NaN   \n",
            "38                       ¹ Restated pursuant to IAS 8    NaN   \n",
            "\n",
            "    1.1. - 31.12.2021  1.1. - 31.12.2020¹   \n",
            "0         27762314.00          24770342.00  \n",
            "1          2905054.00           2442720.00  \n",
            "2          -737631.00          -1028172.00  \n",
            "3            24023.00             61345.00  \n",
            "4         24143652.00          21360795.00  \n",
            "5          1555591.00           1240420.00  \n",
            "6            35743.00             88129.00  \n",
            "7           281026.00            329610.00  \n",
            "8            36114.00             63971.00  \n",
            "9            87665.00            129393.00  \n",
            "10          146047.00            129034.00  \n",
            "11         1674762.00           1463703.00  \n",
            "12          268250.00            221765.00  \n",
            "13         1943012.00           1685468.00  \n",
            "14             114.00                15.00  \n",
            "15        26086778.00          23046278.00  \n",
            "16        18617725.00          16782658.00  \n",
            "17         -298645.00           -103487.00  \n",
            "18         5788582.00           5111753.00  \n",
            "19            4767.00              4466.00  \n",
            "20          510707.00            478182.00  \n",
            "21        24623136.00          22273572.00  \n",
            "22          774816.00            823391.00  \n",
            "23          503631.00            382022.00  \n",
            "24          271185.00            441369.00  \n",
            "25         1734827.00           1214075.00  \n",
            "26           83037.00             90204.00  \n",
            "27         1651790.00           1123871.00  \n",
            "28          351569.00            205086.00  \n",
            "29         1300221.00            918785.00  \n",
            "30                NaN                  NaN  \n",
            "31           68887.00             35712.00  \n",
            "32         1231334.00            883073.00  \n",
            "33                NaN                  NaN  \n",
            "34              10.21                 7.32  \n",
            "35              10.21                 7.32  \n",
            "36                NaN                  NaN  \n",
            "37                NaN                  NaN  \n",
            "38                NaN                  NaN  \n"
          ]
        }
      ]
    },
    {
      "cell_type": "markdown",
      "source": [
        "We have the following observations:\n",
        "- Numbers in EUR thousand\n",
        "- Four columns in the consolidated income statement.\n",
        "  - The first one shows the names of all income statement positions\n",
        "  - The second one seems to contain notes references\n",
        "  - The third and fourth hold the figures for the financial years 2020 and 2021.\n",
        "- We have some NaN (**N**ot **a** **N**umber) values.\n",
        "\n",
        "Let's deal with the data as follows:\n",
        "- Skip the first two rows of the sheet to obtain the third one as the header (done already while creating the data frame)\n",
        "- Clean the data by dropping all NaN-rows in order to get rid of empty cells\n",
        "- Delete the second column with notes references\n",
        "- Include a column with the company name (which enables us to identify the positions (rows) after combining the data from all reinsurers\n",
        "\n",
        "Here we go!"
      ],
      "metadata": {
        "id": "-MBPgMiydG08"
      }
    },
    {
      "cell_type": "code",
      "source": [
        "is_hr_2021_drop_c = is_hr_2021_raw.drop(columns='Notes')\n",
        "is_hr_2021_drop_c.drop(is_hr_2021_drop_c.tail(3).index, inplace=True)\n",
        "is_hr_final = is_hr_2021_drop_c.rename(columns={\"1.1. - 31.12.2021\": \"2021\", \"1.1. - 31.12.2020¹ \": \"2020\"})\n",
        "\n",
        "print(is_hr_final)"
      ],
      "metadata": {
        "colab": {
          "base_uri": "https://localhost:8080/"
        },
        "id": "Qjn48KFmdW-R",
        "outputId": "e4af38c2-a5d2-4637-ac5e-fd876e75338d"
      },
      "execution_count": 46,
      "outputs": [
        {
          "output_type": "stream",
          "name": "stdout",
          "text": [
            "                                      In EUR thousand         2021  \\\n",
            "0                               Gross written premium  27762314.00   \n",
            "1                               Ceded written premium   2905054.00   \n",
            "2                    Change in gross unearned premium   -737631.00   \n",
            "3                    Change in ceded unearned premium     24023.00   \n",
            "4                                  Net premium earned  24143652.00   \n",
            "5                          Ordinary investment income   1555591.00   \n",
            "6   Profit/loss from investments in associated com...     35743.00   \n",
            "7            Realised gains and losses on investments    281026.00   \n",
            "8       Change in fair value of financial instruments     36114.00   \n",
            "9   Total depreciation, impairments and appreciati...     87665.00   \n",
            "10                          Other investment expenses    146047.00   \n",
            "11   Net income from investments under own management   1674762.00   \n",
            "12  Income/expense on funds withheld and contract ...    268250.00   \n",
            "13                              Net investment income   1943012.00   \n",
            "14                             Other technical income       114.00   \n",
            "15                                     Total revenues  26086778.00   \n",
            "16                         Claims and claims expenses  18617725.00   \n",
            "17                         Change in benefit reserves   -298645.00   \n",
            "18  Commission and brokerage, change in deferred a...   5788582.00   \n",
            "19                            Other acquisition costs      4767.00   \n",
            "20                            Administrative expenses    510707.00   \n",
            "21                           Total technical expenses  24623136.00   \n",
            "22                                       Other income    774816.00   \n",
            "23                                     Other expenses    503631.00   \n",
            "24                              Other income/expenses    271185.00   \n",
            "25                       Operating profit/loss (EBIT)   1734827.00   \n",
            "26                                    Financing costs     83037.00   \n",
            "27                            Net income before taxes   1651790.00   \n",
            "28                                              Taxes    351569.00   \n",
            "29                                         Net income   1300221.00   \n",
            "30                                            thereof          NaN   \n",
            "31        Non-controlling interest in profit and loss     68887.00   \n",
            "32                                   Group net income   1231334.00   \n",
            "33                        Earnings per share (in EUR)          NaN   \n",
            "34                           Basic earnings per share        10.21   \n",
            "35                         Diluted earnings per share        10.21   \n",
            "\n",
            "           2020  \n",
            "0   24770342.00  \n",
            "1    2442720.00  \n",
            "2   -1028172.00  \n",
            "3      61345.00  \n",
            "4   21360795.00  \n",
            "5    1240420.00  \n",
            "6      88129.00  \n",
            "7     329610.00  \n",
            "8      63971.00  \n",
            "9     129393.00  \n",
            "10    129034.00  \n",
            "11   1463703.00  \n",
            "12    221765.00  \n",
            "13   1685468.00  \n",
            "14        15.00  \n",
            "15  23046278.00  \n",
            "16  16782658.00  \n",
            "17   -103487.00  \n",
            "18   5111753.00  \n",
            "19      4466.00  \n",
            "20    478182.00  \n",
            "21  22273572.00  \n",
            "22    823391.00  \n",
            "23    382022.00  \n",
            "24    441369.00  \n",
            "25   1214075.00  \n",
            "26     90204.00  \n",
            "27   1123871.00  \n",
            "28    205086.00  \n",
            "29    918785.00  \n",
            "30          NaN  \n",
            "31     35712.00  \n",
            "32    883073.00  \n",
            "33          NaN  \n",
            "34         7.32  \n",
            "35         7.32  \n"
          ]
        }
      ]
    }
  ]
}